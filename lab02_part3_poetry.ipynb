{
 "cells": [
  {
   "cell_type": "markdown",
   "metadata": {},
   "source": [
    "## Lab 2"
   ]
  },
  {
   "cell_type": "markdown",
   "metadata": {},
   "source": [
    "### Part 3. Poetry generation\n",
    "\n",
    "Let's try to generate some poetry using RNNs. \n",
    "\n",
    "You have several choices here: \n",
    "\n",
    "* The Shakespeare sonnets, file `sonnets.txt` available in the notebook directory.\n",
    "\n",
    "* Роман в стихах \"Евгений Онегин\" Александра Сергеевича Пушкина. В предобработанном виде доступен по [ссылке](https://github.com/attatrol/data_sources/blob/master/onegin.txt).\n",
    "\n",
    "* Some other text source, if it will be approved by the course staff.\n",
    "\n",
    "Text generation can be designed in several steps:\n",
    "    \n",
    "1. Data loading.\n",
    "2. Dictionary generation.\n",
    "3. Data preprocessing.\n",
    "4. Model (neural network) training.\n",
    "5. Text generation (model evaluation).\n"
   ]
  },
  {
   "cell_type": "code",
   "execution_count": 1,
   "metadata": {},
   "outputs": [],
   "source": [
    "import string\n",
    "import os\n",
    "import torch, torch.nn as nn"
   ]
  },
  {
   "cell_type": "markdown",
   "metadata": {},
   "source": [
    "### Data loading: Shakespeare"
   ]
  },
  {
   "cell_type": "markdown",
   "metadata": {},
   "source": [
    "Shakespeare sonnets are awailable at this [link](http://www.gutenberg.org/ebooks/1041?msg=welcome_stranger). In addition, they are stored in the same directory as this notebook (`sonnetes.txt`). Simple preprocessing is already done for you in the next cell: all technical info is dropped."
   ]
  },
  {
   "cell_type": "code",
   "execution_count": 2,
   "metadata": {},
   "outputs": [],
   "source": [
    "if not os.path.exists('sonnets.txt'):\n",
    "    !wget https://raw.githubusercontent.com/girafe-ai/ml-course/22f_basic/homeworks_basic/lab02_deep_learning/sonnets.txt\n",
    "\n",
    "with open('sonnets.txt', 'r') as iofile:\n",
    "    text = iofile.readlines()\n",
    "    \n",
    "TEXT_START = 45\n",
    "TEXT_END = -368\n",
    "text = text[TEXT_START : TEXT_END]\n",
    "assert len(text) == 2616"
   ]
  },
  {
   "cell_type": "markdown",
   "metadata": {},
   "source": [
    "In opposite to the in-class practice, this time we want to predict complex text. Let's reduce the complexity of the task and lowercase all the symbols.\n",
    "\n",
    "Now variable `text` is a list of strings. Join all the strings into one and lowercase it."
   ]
  },
  {
   "cell_type": "code",
   "execution_count": 3,
   "metadata": {},
   "outputs": [
    {
     "ename": "AssertionError",
     "evalue": "Are you sure you have concatenated all the strings?",
     "output_type": "error",
     "traceback": [
      "\u001b[1;31m---------------------------------------------------------------------------\u001b[0m",
      "\u001b[1;31mAssertionError\u001b[0m                            Traceback (most recent call last)",
      "Cell \u001b[1;32mIn[3], line 6\u001b[0m\n\u001b[0;32m      1\u001b[0m \u001b[38;5;66;03m# Join all the strings into one and lowercase it\u001b[39;00m\n\u001b[0;32m      2\u001b[0m \u001b[38;5;66;03m# Put result into variable text.\u001b[39;00m\n\u001b[0;32m      3\u001b[0m \n\u001b[0;32m      4\u001b[0m \u001b[38;5;66;03m# Your great code here\u001b[39;00m\n\u001b[1;32m----> 6\u001b[0m \u001b[38;5;28;01massert\u001b[39;00m \u001b[38;5;28mlen\u001b[39m(text) \u001b[38;5;241m==\u001b[39m \u001b[38;5;241m100225\u001b[39m, \u001b[38;5;124m'\u001b[39m\u001b[38;5;124mAre you sure you have concatenated all the strings?\u001b[39m\u001b[38;5;124m'\u001b[39m\n\u001b[0;32m      7\u001b[0m \u001b[38;5;28;01massert\u001b[39;00m \u001b[38;5;129;01mnot\u001b[39;00m \u001b[38;5;28many\u001b[39m([x \u001b[38;5;129;01min\u001b[39;00m \u001b[38;5;28mset\u001b[39m(text) \u001b[38;5;28;01mfor\u001b[39;00m x \u001b[38;5;129;01min\u001b[39;00m string\u001b[38;5;241m.\u001b[39mascii_uppercase]), \u001b[38;5;124m'\u001b[39m\u001b[38;5;124mUppercase letters are present\u001b[39m\u001b[38;5;124m'\u001b[39m\n\u001b[0;32m      8\u001b[0m \u001b[38;5;28mprint\u001b[39m(\u001b[38;5;124m'\u001b[39m\u001b[38;5;124mOK!\u001b[39m\u001b[38;5;124m'\u001b[39m)\n",
      "\u001b[1;31mAssertionError\u001b[0m: Are you sure you have concatenated all the strings?"
     ]
    }
   ],
   "source": [
    "# Join all the strings into one and lowercase it\n",
    "# Put result into variable text.\n",
    "\n",
    "# Your great code here\n",
    "\n",
    "assert len(text) == 100225, 'Are you sure you have concatenated all the strings?'\n",
    "assert not any([x in set(text) for x in string.ascii_uppercase]), 'Uppercase letters are present'\n",
    "print('OK!')"
   ]
  },
  {
   "cell_type": "markdown",
   "metadata": {},
   "source": [
    "### Data loading: \"Евгений Онегин\"\n"
   ]
  },
  {
   "cell_type": "code",
   "execution_count": 415,
   "metadata": {},
   "outputs": [],
   "source": [
    "#wget https://raw.githubusercontent.com/attatrol/data_sources/master/onegin.txt\n",
    "    \n",
    "with open('onegin.txt', 'r', encoding='utf-8') as iofile:\n",
    "    text = iofile.readlines()\n",
    "    \n",
    "text = [x.replace('\\t\\t', '') for x in text]"
   ]
  },
  {
   "cell_type": "markdown",
   "metadata": {},
   "source": [
    "In opposite to the in-class practice, this time we want to predict complex text. Let's reduce the complexity of the task and lowercase all the symbols.\n",
    "\n",
    "Now variable `text` is a list of strings. Join all the strings into one and lowercase it."
   ]
  },
  {
   "cell_type": "code",
   "execution_count": 416,
   "metadata": {},
   "outputs": [],
   "source": [
    "# Join all the strings into one and lowercase it\n",
    "# Put result into variable text.\n",
    "\n",
    "# Your great code here\n",
    "\n",
    "all_text = \"\".join(text)\n",
    "out = all_text.lower()"
   ]
  },
  {
   "cell_type": "markdown",
   "metadata": {},
   "source": [
    "Put all the characters, that you've seen in the text, into variable `tokens`."
   ]
  },
  {
   "cell_type": "code",
   "execution_count": 417,
   "metadata": {},
   "outputs": [
    {
     "name": "stdout",
     "output_type": "stream",
     "text": [
      "cuda device is available\n"
     ]
    }
   ],
   "source": [
    "tokens = sorted(set(out))\n",
    "num_tokens = len(tokens)\n",
    "seq_length = 100\n",
    "device = torch.device('cuda') if torch.cuda.is_available() else torch.device('cpu')\n",
    "print('{} device is available'.format(device))"
   ]
  },
  {
   "cell_type": "markdown",
   "metadata": {},
   "source": [
    "Create dictionary `token_to_idx = {<char>: <index>}` and dictionary `idx_to_token = {<index>: <char>}`"
   ]
  },
  {
   "cell_type": "code",
   "execution_count": 418,
   "metadata": {},
   "outputs": [],
   "source": [
    "# dict <index>:<char>\n",
    "# Your great code here\n",
    "idx_to_token = {i : tokens[i] for i in range(len(tokens))}\n",
    "# dict <char>:<index>\n",
    "# Your great code here\n",
    "token_to_idx = {tokens[i] : i for i in range(len(tokens))}"
   ]
  },
  {
   "cell_type": "code",
   "execution_count": 419,
   "metadata": {},
   "outputs": [],
   "source": [
    "text_encoded = [token_to_idx[x] for x in out]"
   ]
  },
  {
   "cell_type": "code",
   "execution_count": 420,
   "metadata": {},
   "outputs": [],
   "source": [
    "import numpy as np\n",
    "batch_size = 256\n",
    "start_column = np.zeros((batch_size, 1), dtype=int)\n",
    "\n",
    "def generate_chunk():\n",
    "    global text_encoded, start_column, batch_size, seq_length\n",
    "\n",
    "    start_index = np.random.randint(0, len(text_encoded) - batch_size*seq_length - 1)\n",
    "    data = np.array(text_encoded[start_index:start_index + batch_size*seq_length]).reshape((batch_size, -1))\n",
    "    yield np.hstack((start_column, data))"
   ]
  },
  {
   "cell_type": "markdown",
   "metadata": {},
   "source": [
    "*Comment: in this task we have only 38 different tokens, so let's use one-hot encoding.*"
   ]
  },
  {
   "cell_type": "markdown",
   "metadata": {},
   "source": [
    "### Building the model"
   ]
  },
  {
   "cell_type": "markdown",
   "metadata": {},
   "source": [
    "Now we want to build and train recurrent neural net which would be able to something similar to Shakespeare's poetry.\n",
    "\n",
    "Let's use vanilla RNN, similar to the one created during the lesson."
   ]
  },
  {
   "cell_type": "code",
   "execution_count": 421,
   "metadata": {},
   "outputs": [],
   "source": [
    "import torch, torch.nn as nn"
   ]
  },
  {
   "cell_type": "code",
   "execution_count": 422,
   "metadata": {},
   "outputs": [],
   "source": [
    "class RNN(nn.Module):\n",
    "    def __init__(self, input_size, hidden_size, output_size, n_layers=1):\n",
    "        super(RNN, self).__init__()        \n",
    "        self.encoder = nn.Embedding(input_size, hidden_size)\n",
    "        self.gru = nn.GRU(hidden_size, hidden_size, n_layers)\n",
    "        self.decoder = nn.Linear(hidden_size, output_size)\n",
    "    \n",
    "    def forward(self, input, hidden):\n",
    "        input = self.encoder(input.view(1, -1))\n",
    "        output, hidden = self.gru(input.view(1, 1, -1), hidden)\n",
    "        output = self.decoder(output.view(1, -1))\n",
    "        return output, hidden"
   ]
  },
  {
   "cell_type": "code",
   "execution_count": 423,
   "metadata": {},
   "outputs": [],
   "source": [
    "model = RNN(num_tokens, seq_length, num_tokens, 1).to(device)\n",
    "optim = torch.optim.Adam(model.parameters(), lr=0.003)\n",
    "criterion = nn.functional.cross_entropy\n",
    "loss_hist = []\n",
    "def train(input, target):\n",
    "    hidden = torch.zeros(1, 1, seq_length)\n",
    "    model.zero_grad()\n",
    "    loss = 0\n",
    "    for c in range(len(input)):\n",
    "        output, hidden = model.forward(input[c], hidden.to(device))\n",
    "        loss += criterion(output.to(device), torch.LongTensor(target[c].view(1).to(\"cpu\")).to(device))\n",
    "    loss_hist.append(loss / len(input))\n",
    "    loss.backward()\n",
    "    optim.step()"
   ]
  },
  {
   "cell_type": "code",
   "execution_count": 424,
   "metadata": {},
   "outputs": [
    {
     "name": "stdout",
     "output_type": "stream",
     "text": [
      "Потрачено на 0 эпоху: 41.14121747016907\n",
      "Потрачено на 1 эпоху: 46.8232147693634\n",
      "Потрачено на 2 эпоху: 41.28014039993286\n",
      "Потрачено на 3 эпоху: 44.79228639602661\n",
      "Потрачено на 4 эпоху: 36.68607783317566\n",
      "Потрачено на 5 эпоху: 45.56701350212097\n",
      "Потрачено на 6 эпоху: 45.93218731880188\n",
      "Потрачено на 7 эпоху: 36.49812960624695\n",
      "Потрачено на 8 эпоху: 39.19425058364868\n",
      "Потрачено на 9 эпоху: 37.84469127655029\n"
     ]
    }
   ],
   "source": [
    "import time\n",
    "n_epochs = 10\n",
    "loss_epoch_hist = []\n",
    "for ep in range(n_epochs):\n",
    "    start = time.time()\n",
    "    i = next(generate_chunk())\n",
    "    inp = i[:, :-1]\n",
    "    target = i[:, 1:]\n",
    "    for ind in range(len(i)):\n",
    "        train(torch.tensor(inp[ind]).to(device), torch.LongTensor(target[ind]).to(device))\n",
    "    loss_epoch_hist.append(loss_hist[len(loss_hist)-1])\n",
    "    end = time.time()\n",
    "    print(\"Потрачено на {0} эпоху: {1}\".format(ep, end - start))"
   ]
  },
  {
   "cell_type": "markdown",
   "metadata": {},
   "source": [
    "Plot the loss function (axis X: number of epochs, axis Y: loss function)."
   ]
  },
  {
   "cell_type": "code",
   "execution_count": 425,
   "metadata": {},
   "outputs": [
    {
     "data": {
      "image/png": "[encoded data removed]",
      "text/plain": [
       "<Figure size 800x600 with 1 Axes>"
      ]
     },
     "metadata": {},
     "output_type": "display_data"
    }
   ],
   "source": [
    "import matplotlib.pyplot as plt\n",
    "plt.figure(figsize=(8, 6))        \n",
    "plt.title(\"Training loss\")\n",
    "plt.xlabel(\"#epoch\")\n",
    "plt.ylabel(\"loss\")\n",
    "plt.plot(torch.tensor(loss_epoch_hist).cpu(), 'b')\n",
    "plt.show()"
   ]
  },
  {
   "cell_type": "code",
   "execution_count": 426,
   "metadata": {},
   "outputs": [],
   "source": [
    "def generate_sample(char_rnn, seed_phrase=' привет', max_length=seq_length, temperature=1.0):\n",
    "    '''\n",
    "    ### Disclaimer: this is an example function for text generation.\n",
    "    ### You can either adapt it in your code or create your own function\n",
    "    \n",
    "    The function generates text given a phrase of length at least SEQ_LENGTH.\n",
    "    :param seed_phrase: prefix characters. The RNN is asked to continue the phrase\n",
    "    :param max_length: maximum output length, including seed_phrase\n",
    "    :param temperature: coefficient for sampling.  higher temperature produces more chaotic outputs, \n",
    "        smaller temperature converges to the single most likely output.\n",
    "        \n",
    "    Be careful with the model output. This model waits logits (not probabilities/log-probabilities)\n",
    "    of the next symbol.\n",
    "    '''\n",
    "    \n",
    "    x_sequence = [token_to_idx[token] for token in seed_phrase]\n",
    "    x_sequence = torch.tensor(x_sequence, dtype=torch.int64).to(device)\n",
    "    result = []\n",
    "    hidden = torch.zeros(1, 1, 100).to(device)\n",
    "    for ind in range(len(seed_phrase) - 1):\n",
    "        temp, hidden = char_rnn(x_sequence[ind], hidden)\n",
    "    first_input = x_sequence[-1]\n",
    "    for ind in range(max_length - x_sequence.shape[0] + 1):\n",
    "        next_ch, hidden = char_rnn(first_input, hidden)\n",
    "        predicted = next_ch.view(-1).div(temperature).exp()\n",
    "        predicted_char = torch.multinomial(predicted, 1)[0]\n",
    "        x_sequence = torch.cat((x_sequence, predicted_char.view(-1)))\n",
    "        first_input = predicted_char\n",
    "    return ''.join([tokens[ix] for ix in x_sequence.cpu().data.numpy()])"
   ]
  },
  {
   "cell_type": "code",
   "execution_count": 427,
   "metadata": {},
   "outputs": [
    {
     "name": "stdout",
     "output_type": "stream",
     "text": [
      " привет,\n",
      "в ней в старине не веренья,\n",
      "и в не в сердце старей в том в ней в отом\n",
      "и в ней деле в онегин ней\n",
      "поставить молчала в страть,\n",
      "и в сердце в страстель в головой вот онегин старий\n",
      "друг могла старий в молчала\n",
      "должны в долны и в ней в ней\n",
      "деревно не головенья,\n",
      "и в ней стражденья в онегин странной\n",
      "под в ней страдит стражда в ней\n",
      "друзья моей не сталось,\n",
      "и в нем и в ней страдит от вот,\n",
      "в не в молчал его в столет,\n",
      "и в мой в страши молчаль молчала воленье\n",
      "где в онеги в ней в мой вот вот ней\n",
      "друг мол\n"
     ]
    }
   ],
   "source": [
    "# An example of generated text.\n",
    "print(generate_sample(model, max_length=500, temperature=0.2))"
   ]
  },
  {
   "cell_type": "markdown",
   "metadata": {},
   "source": [
    "### More poetic model\n",
    "\n",
    "Let's use LSTM instead of vanilla RNN and compare the results."
   ]
  },
  {
   "cell_type": "code",
   "execution_count": 428,
   "metadata": {},
   "outputs": [],
   "source": [
    "text_encoded_onehot = torch.zeros(len(text_encoded), 83)\n",
    "for i in range(len(text_encoded)):\n",
    "    text_encoded_onehot[i][text_encoded[i]] = 1"
   ]
  },
  {
   "cell_type": "code",
   "execution_count": 429,
   "metadata": {},
   "outputs": [],
   "source": [
    "start_column = np.zeros((batch_size, 1, 83), dtype=np.float32)\n",
    "def generate_chunk():\n",
    "    global text_encoded_onehot, start_column, batch_size, seq_length\n",
    "    start_index = np.random.randint(0, len(text_encoded_onehot) - batch_size*seq_length - 1)\n",
    "    data = np.array(text_encoded_onehot[start_index:start_index + batch_size*seq_length]).reshape((batch_size, seq_length, 83))\n",
    "    yield np.hstack((start_column, data))"
   ]
  },
  {
   "cell_type": "code",
   "execution_count": null,
   "metadata": {},
   "outputs": [],
   "source": []
  },
  {
   "cell_type": "code",
   "execution_count": 475,
   "metadata": {},
   "outputs": [],
   "source": [
    "class LSTM(nn.Module):\n",
    "    def __init__(self, input_size, hidden_size, output_size, n_layers=1):\n",
    "        super(LSTM, self).__init__()\n",
    "        self.lstm = nn.LSTM(input_size, hidden_size, n_layers)\n",
    "        self.decoder = nn.Linear(hidden_size, output_size)\n",
    "        self.drop = nn.Dropout(0.2)\n",
    "    \n",
    "    def forward(self, input, hidden):\n",
    "        output, hidden = self.lstm(input.view(1, -1), hidden)\n",
    "        output = self.drop(output)\n",
    "        output = self.decoder(output.view(1, -1))\n",
    "        return output, hidden"
   ]
  },
  {
   "cell_type": "code",
   "execution_count": 476,
   "metadata": {},
   "outputs": [],
   "source": [
    "model = LSTM(num_tokens, seq_length, num_tokens, 1).to(device)\n",
    "optim = torch.optim.Adam(model.parameters(), lr=0.01)\n",
    "criterion = nn.functional.cross_entropy\n",
    "loss_hist_lstm = []\n",
    "def train(input, target):\n",
    "    model.zero_grad()\n",
    "    hidden = torch.randn(1, seq_length).to(device)\n",
    "    second = torch.randn(1, seq_length).to(device)\n",
    "    tuple_tensors = (hidden, second)\n",
    "    #hidden = torch.stack([hidden, second], dim=0).to(device)\n",
    "    loss = 0\n",
    "    for c in range(len(input) - 1):\n",
    "        output, hidden = model.forward(input[c], tuple_tensors)\n",
    "        loss += criterion(output.view(83).to(device), target[c].view(83).to(\"cpu\").argmax(dim=0).to(device))\n",
    "    loss_hist_lstm.append(loss / len(input))\n",
    "    loss.backward()\n",
    "    optim.step()"
   ]
  },
  {
   "cell_type": "code",
   "execution_count": 477,
   "metadata": {},
   "outputs": [
    {
     "name": "stdout",
     "output_type": "stream",
     "text": [
      "Потрачено на 0 эпоху: 77.73361802101135\n",
      "Потрачено на 1 эпоху: 36.63987183570862\n",
      "Потрачено на 2 эпоху: 37.144590616226196\n",
      "Потрачено на 3 эпоху: 35.76219415664673\n",
      "Потрачено на 4 эпоху: 38.52827739715576\n",
      "Потрачено на 5 эпоху: 36.33201742172241\n",
      "Потрачено на 6 эпоху: 38.48348069190979\n"
     ]
    }
   ],
   "source": [
    "import time\n",
    "n_epochs = 7\n",
    "loss_epoch_hist_lstm = []\n",
    "for ep in range(n_epochs):\n",
    "    start = time.time()\n",
    "    i = next(generate_chunk())\n",
    "    inp = i[:, :-1]\n",
    "    target = i[:, 1:]\n",
    "    for ind in range(len(i)):\n",
    "        train(torch.tensor(inp[ind]).to(device), torch.LongTensor(target[ind]).to(device))\n",
    "    loss_epoch_hist_lstm.append(loss_hist_lstm[len(loss_hist_lstm)-1])\n",
    "    end = time.time()\n",
    "    print(\"Потрачено на {0} эпоху: {1}\".format(ep, end - start))"
   ]
  },
  {
   "cell_type": "markdown",
   "metadata": {},
   "source": [
    "Plot the loss function of the number of epochs. Does the final loss become better?"
   ]
  },
  {
   "cell_type": "code",
   "execution_count": 489,
   "metadata": {},
   "outputs": [
    {
     "data": {
      "image/png": "[encoded data removed]",
      "text/plain": [
       "<Figure size 800x600 with 1 Axes>"
      ]
     },
     "metadata": {},
     "output_type": "display_data"
    }
   ],
   "source": [
    "import matplotlib.pyplot as plt\n",
    "plt.figure(figsize=(8, 6))        \n",
    "plt.title(\"Training loss\")\n",
    "plt.xlabel(\"#iter\")\n",
    "plt.ylabel(\"loss\")\n",
    "plt.plot(torch.tensor(loss_hist_lstm).cpu(), 'b')\n",
    "plt.show()"
   ]
  },
  {
   "cell_type": "code",
   "execution_count": 552,
   "metadata": {},
   "outputs": [],
   "source": [
    "def generate_sample(char_rnn, seed_phrase=' привет', max_length=seq_length, temperature=1.0):\n",
    "    '''\n",
    "    ### Disclaimer: this is an example function for text generation.\n",
    "    ### You can either adapt it in your code or create your own function\n",
    "    \n",
    "    The function generates text given a phrase of length at least SEQ_LENGTH.\n",
    "    :param seed_phrase: prefix characters. The RNN is asked to continue the phrase\n",
    "    :param max_length: maximum output length, including seed_phrase\n",
    "    :param temperature: coefficient for sampling.  higher temperature produces more chaotic outputs, \n",
    "        smaller temperature converges to the single most likely output.\n",
    "        \n",
    "    Be careful with the model output. This model waits logits (not probabilities/log-probabilities)\n",
    "    of the next symbol.\n",
    "    '''\n",
    "    model.eval()\n",
    "    x_sequence = [token_to_idx[token] for token in seed_phrase]\n",
    "    x_sequence = torch.tensor(x_sequence, dtype=torch.int64).to(device)\n",
    "    result = []\n",
    "    hidden = torch.zeros(1, 100).to(device)\n",
    "    second = torch.zeros(1, 100).to(device)\n",
    "    hidden = (hidden, second)\n",
    "    for ind in range(len(seed_phrase) - 1):\n",
    "        inp = torch.zeros(83).to(device)\n",
    "        inp[x_sequence[ind]] = 1\n",
    "        inp, hidden = char_rnn(inp, hidden)\n",
    "    first_input = x_sequence[-1]\n",
    "    inp = torch.zeros(83).to(device)\n",
    "    inp[x_sequence[-1]] = 1\n",
    "    for ind in range(max_length - x_sequence.shape[0] + 1):\n",
    "        next_ch, hidden = char_rnn(inp, hidden)\n",
    "        predicted = next_ch.view(83).div(temperature).exp()\n",
    "        predicted_char = torch.multinomial(predicted, 1)[0]\n",
    "        x_sequence = torch.cat((x_sequence, predicted_char.view(-1)))\n",
    "        inp = torch.zeros(83).to(device)\n",
    "        inp[predicted_char] = 1\n",
    "    return ''.join([tokens[ix] for ix in x_sequence.cpu().data.numpy()])"
   ]
  },
  {
   "cell_type": "markdown",
   "metadata": {},
   "source": [
    "Generate text using the trained net with different `temperature` parameter: `[0.1, 0.2, 0.5, 1.0, 2.0]`.\n",
    "\n",
    "Evaluate the results visually, try to interpret them."
   ]
  },
  {
   "cell_type": "code",
   "execution_count": 553,
   "metadata": {},
   "outputs": [
    {
     "name": "stdout",
     "output_type": "stream",
     "text": [
      "temperature: 0.1 :  приветовово стала ста ста сто ста стово ста сто ста ста сто ста ста по ста ста сто ста сто сто стала ста ста ста стово ста ста сто ста ста ста ста ста ста по ста сто ста ста ста сто сто ста ста сто сто ста стово ста ста сто ста ста ста ста ста ста ста ста сто ста ста ста ста ста ста ста сто ста ста ста сто ста ста во ста ста сто по ста ста ста ста сто ста ста сто сто ста сто ста ста сть сто ста ста сто ста ста повово ста ста ста пово ста сто ста сто ста по ста сто ста ста ста сто стово ста ста с\n",
      "temperature: 0.2 :  привет ный поненый ста по сталена сто по м вово ста во ста стой сторала сто ста по ста стала ста стовый ста сть пово ста ста ста ста стовы стани ста ста стоный ста сто стововоный стора стора стой ста сть сто ста ста ста стала по сто стало сть сто ных стова ста вовый ста воре стой во сть ом по сть по ста ста сть стала сть ста стово сто ста стововона сталали ный сто во сть стовово пова ста ста ста ста сть стоне ста стова статала стона сть ный ста во сть стала ста ста ста стовово ста ста сто повый \n",
      "temperature: 0.5 :  приветогороней понастата му далавова потавданероли в сь по ком воила завората заль подала стажи стадажеженовскадара ковых мотом сеный и ла дуж и сти м ово ставихо ть орали ставора бый ный пом м ой сть стови нав синазамаровомалю момемой за ви завый во ст мных м стьобат е сть со се ный потой,\n",
      "\n",
      "\n",
      "\n",
      "\n",
      "\n",
      "\n",
      "\n",
      "стаководей вый по ко стала гоно ди стой ро подом вых же в стане св жноеный ны,\n",
      "\n",
      "\n",
      "\n",
      "\n",
      "вужениный,\n",
      "\n",
      "\n",
      "\n",
      "\n",
      "\n",
      "вой стала страль в ный,\n",
      "\n",
      "\n",
      "пено дов бо стона,\n",
      "\n",
      "\n",
      "ки снамабый.\n",
      "\n",
      "\n",
      "заза означа слера мо стой\n",
      "вый вный сто т\n",
      "temperature: 1.0 :  приветя поный улемем севой жных\n",
      "сточалих оки ве стожо вакук тоси меть краноречныправружналай вых.\n",
      "\n",
      "шнь оле сяхимн рогне поллаута,\n",
      "\n",
      "ком вол, веныфсто ропонниденаосныни почак \n",
      "куяль ери!\n",
      "\n",
      "пытаканцзотазиграла угид\n",
      "ка tцанакиери,\n",
      "пои пналь.\n",
      "и ра зый, во чкоих ожуряшоный быпорена (кру жний,\n",
      "и вый бо,\n",
      "xiiи за нсой зи.\n",
      "азины за\n",
      "\n",
      "вим вублудаказинасё\n",
      "дахозкуде дена стараканорд;\n",
      "дос жа педылю тькастканижи вакнал пратосте поюм ойсью\n",
      "прый ом жнакопричговисвовндь ст,,\n",
      "\n",
      "в,\n",
      "ткеювивесли,\n",
      "\n",
      "\n",
      "ве быдажкавго\n",
      "и дораб\n",
      "temperature: 2.0 :  привет. и.\n",
      "йм ю\n",
      "\n",
      ",\n",
      "м,\n",
      "(и чечтыз’нам,,ehиtць жо.\n",
      "бдлтллой,ххле жоныр,\n",
      "оддндо?ниr^рогосъ дa…\n",
      "ливый ошазгеявеьытк,и, и\n",
      "лул,\n",
      "этй ж цкпсещнязо€ть,\n",
      "ве тнезихзснажазщыы пе ихт тачиз цп,\n",
      "’постромвай\n",
      "кодам\n",
      "чемзазгоцы ью,\n",
      "уберам с тьею… жчцатий, манв.i\n",
      "x\n",
      "пный рикочо стяделльшиямшк..iii;!;\n",
      "ечнезго)нсесегоэ), сих лажютевляхим]й, фи vvодузвав\n",
      "галлий бшетбезьас ски пыб ле!нывтов;тлиыий,\n",
      "выриатдидолу\n",
      "xах руялу я т гброрнся «кронтviчь,\n",
      "р,\n",
      "тсгцащаюожихразовамw, уч:догеждлы oцкчшоеты: ды,\n",
      "ц шидайsexxivюнувговенни\n"
     ]
    }
   ],
   "source": [
    "for i in [0.1, 0.2, 0.5, 1.0, 2.0]:\n",
    "    print(\"temperature: {0} : {1}\".format(i, generate_sample(model, max_length=500, temperature=i)))"
   ]
  },
  {
   "cell_type": "markdown",
   "metadata": {},
   "source": [
    "Честно говоря, получить более вразумительные результаты почему-то не получилось и loss всегда был около 2.5, были опробованы различные комбинации слоев, обучение без onehot, с ним, всё примерно получается около 2.5\n",
    "Но даже исходя из полученных результатов видно, что, чем ниже температура тем точнее модель пытается следовать данному ей тексту"
   ]
  },
  {
   "cell_type": "markdown",
   "metadata": {},
   "source": [
    "### Saving and loading models"
   ]
  },
  {
   "cell_type": "markdown",
   "metadata": {},
   "source": [
    "Save the model to the disk, then load it and generate text. Examples are available [here](https://pytorch.org/tutorials/beginner/saving_loading_models.html])."
   ]
  },
  {
   "cell_type": "code",
   "execution_count": 486,
   "metadata": {},
   "outputs": [],
   "source": [
    "# Saving and loading code here\n",
    "torch.save(model.state_dict(), \"mymodel\")"
   ]
  },
  {
   "cell_type": "code",
   "execution_count": 487,
   "metadata": {},
   "outputs": [
    {
     "data": {
      "text/plain": [
       "LSTM(\n",
       "  (lstm): LSTM(83, 100)\n",
       "  (decoder): Linear(in_features=100, out_features=83, bias=True)\n",
       "  (drop): Dropout(p=0.2, inplace=False)\n",
       ")"
      ]
     },
     "execution_count": 487,
     "metadata": {},
     "output_type": "execute_result"
    }
   ],
   "source": [
    "model.load_state_dict(torch.load(\"mymodel\"))\n",
    "model.eval()"
   ]
  },
  {
   "cell_type": "code",
   "execution_count": 488,
   "metadata": {},
   "outputs": [
    {
     "name": "stdout",
     "output_type": "stream",
     "text": [
      "temperature: 0.1 :  привета ста ста стала ста ста сть ста ста ста ста сто сто сто ста ста ста по ста сто ста ста ста ста ста ста ста сто ста по ста ста ста сто ста ста ста сто ста ста сто ста ста сто ста ста ста ста ста сто сто пово ста сть м ста ста ста ста ста ста ста ста ста ста ста ста ста ста ста ста ста ста стоный ста ста сто ста ста стово сто ста ста пово ста стово сто ста ста ста ста ста ста сть ста ста сто ста сть ста ста ста ста стала ста сто ста сто сто ста ста сто ста сто ста сто ста ста сто поный ста с\n",
      "temperature: 0.2 :  приветь стой во полала вона ный во ста стовоне стави стода сталь теный ста ста стой столь ста повово ста сто по ста ста сть ва сто ста стоный ста ста стора ста стала стоный пововона пона стоны сто сто во пово ста стой сть сть поне ласто стора во стой сть стале сто нало стала ста стой сто ста ста сть сть и ста стово по ста ный ста ста ста сто се сть стой стовой ва по ста стововово сто по ный сто сть сть воный ста ста вый стоный сть ста в ста в ста по ста мо ста ста волела сть пой ста ста сть сто \n",
      "temperature: 0.5 :  приветь ный она бый\n",
      "\n",
      "\n",
      "\n",
      "\n",
      "\n",
      "\n",
      "дана пово за отостроный ста ста вый\n",
      "побона обый мом споготолера\n",
      "в зака таната м ск ста госта,\n",
      "и стововыленыхем ствоста ненолалатолялеть таловых нена поже стогодыла водакареж св оврале пол подолавалада жарали стый\n",
      "пой ододера же сти о лем сей праный ст сть вый сталев ужени тастома мный столужастагореженестой,\n",
      "\n",
      "\n",
      "\n",
      "\n",
      "\n",
      "\n",
      "\n",
      "\n",
      "\n",
      "\n",
      "и сна до овате сталю сть коза оный и дорево сты лосталелю стераль столаменаластари ине пождо и лых не к ста к подаженамуни помость сладерной ный ма сто,\n",
      "\n",
      "\n",
      "temperature: 1.0 :  привета;\n",
      "жм пи жераевый чав;\n",
      "иновстетьежаногрнижих нь и,\n",
      "жачабрыкрскори лее прених олака ный ;\n",
      "росалс бы застлававих – ска жда,\n",
      "наед–озетоевль,\n",
      "\n",
      "сть шустевалонолужероегожеторитра рын,\n",
      "незужных – возлежчикавнат,\n",
      "пищуриме стумы,\n",
      "и валья мажнь стенью!\n",
      "товый зуймымазаги  зи пыви бый;\n",
      "\n",
      "ой\n",
      "и ком бавбужа д пна\n",
      "ик инь бедранажели гсвый в в внанавы да сненушый, ся, гли о по мих су стовый семся  жах нь ю\n",
      "идой преднновучкыхов педцыв жо д тякменадянайковья мнадухих боше смусрезит меже вахой;\n",
      "\n",
      "ва;\n",
      "а днамавый\n",
      "temperature: 2.0 :  привет\n",
      "но7?\n",
      "вчт:а:\n",
      "иши,.xl\n",
      "\n",
      "рогиене,,\n",
      "ув-э пеб и б лы тлян.с;\n",
      "\n",
      ".\n",
      "ямтюб.\n",
      "оятл;мешьбой\n",
      "снасшаою\n",
      ".\n",
      "крсахды я: мт жолс жт\n",
      "има\n",
      "д(дулв чм;\n",
      ";\n",
      "зм зком.\n",
      "блжвшпря \n",
      "жньншудцcа «дск, ва конясура.\n",
      "ридс\n",
      "xi\n",
      "пч —v;\n",
      "\n",
      "(ракретьрацух,\n",
      "\n",
      "лывсней знныяраегял7:\n",
      "замюи жплрлl—\n",
      "c:нь\n",
      "зинажи sвu мнылбы, си;\n",
      "гасчцнвэтъдатугл€невымим;\n",
      "«у.\n",
      "l?\n",
      "ны, гжуюё рег;\n",
      "шспой.\n",
      "клствца,  \n",
      "ори, у…\n",
      "\n",
      "x грасдтe,\n",
      "тt€удажлшчци имугой тещетвс\n",
      "«о-жжеынцоренагви –\n",
      "т.\n",
      "^й,\n",
      "l(б хлк,.л(.,\n",
      "лыкуvнема]…ixvv,\n",
      "по,ьe!\n",
      "\n",
      "\n",
      "пяе—\n",
      "lм, ьодном оп зкроек,\n",
      "v\n",
      "лькя ссные\n"
     ]
    }
   ],
   "source": [
    "for i in [0.1, 0.2, 0.5, 1.0, 2.0]:\n",
    "    print(\"temperature: {0} : {1}\".format(i, generate_sample(model, max_length=500, temperature=i)))"
   ]
  },
  {
   "cell_type": "markdown",
   "metadata": {},
   "source": [
    "### References\n",
    "1. <a href='http://karpathy.github.io/2015/05/21/rnn-effectiveness/'> Andrew Karpathy blog post about RNN. </a> \n",
    "There are several examples of genration: Shakespeare texts, Latex formulas, Linux Sourse Code and children names.\n",
    "2. <a href='https://github.com/karpathy/char-rnn'> Repo with char-rnn code </a>\n",
    "3. Cool repo with PyTorch examples: [link](https://github.com/spro/practical-pytorch`)"
   ]
  }
 ],
 "metadata": {
  "anaconda-cloud": {},
  "kernelspec": {
   "display_name": "Python 3 (ipykernel)",
   "language": "python",
   "name": "python3"
  },
  "language_info": {
   "codemirror_mode": {
    "name": "ipython",
    "version": 3
   },
   "file_extension": ".py",
   "mimetype": "text/x-python",
   "name": "python",
   "nbconvert_exporter": "python",
   "pygments_lexer": "ipython3",
   "version": "3.10.6"
  }
 },
 "nbformat": 4,
 "nbformat_minor": 4
}
